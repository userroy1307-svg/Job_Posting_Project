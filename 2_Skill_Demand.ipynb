{
 "cells": [
  {
   "cell_type": "markdown",
   "id": "e80a01ac",
   "metadata": {},
   "source": [
    "# JOB SKILL ANALYSIS FOR TOP 5 APPEARNING POSTINGS"
   ]
  },
  {
   "cell_type": "code",
   "execution_count": 1,
   "id": "55f5aa83",
   "metadata": {},
   "outputs": [],
   "source": [
    "# STEP 1 : LOAD DATA AND MAKE NECESSARY CHANGES TO CLEAN IT\n",
    "import pandas as pd\n",
    "import ast\n",
    "from datasets import load_dataset\n",
    "import matplotlib.pyplot as plt\n",
    "\n",
    "# Loading Data\n",
    "data_set = load_dataset('lukebarousse/data_jobs')\n",
    "df= data_set['train'].to_pandas()\n",
    "\n",
    "# Cleaning Up Data\n",
    "df['job_posted_date'] = pd.to_datetime(df.job_posted_date)\n",
    "df['job_skills'] = df['job_skills'].apply(lambda x:ast.literal_eval(x) if pd.notna(x) else x)\n"
   ]
  },
  {
   "cell_type": "code",
   "execution_count": 8,
   "id": "862970c5",
   "metadata": {},
   "outputs": [],
   "source": [
    "# SORTING FOR JOB POSTINGS IN INIDA\n",
    "df_india = df[df['job_country']=='India'].copy()"
   ]
  },
  {
   "cell_type": "code",
   "execution_count": 9,
   "id": "6ec84334",
   "metadata": {},
   "outputs": [],
   "source": [
    "# EXPLODING THE JOBS SKILLS COLUMN TO RUN VALUE COUNT \n",
    "df_explode_india = df_india.explode('job_skills')\n"
   ]
  },
  {
   "cell_type": "code",
   "execution_count": 16,
   "id": "f920bd30",
   "metadata": {},
   "outputs": [],
   "source": [
    "# RUNNING GROUP BY SIZE ON SKILLS \n",
    "df_skills = df_explode_india.groupby(['job_skills','job_title_short']).size()"
   ]
  },
  {
   "cell_type": "code",
   "execution_count": 17,
   "id": "e0caa7b7",
   "metadata": {},
   "outputs": [],
   "source": [
    "# CONVERTING THE DATA TYPE TO DATA FRAM FROM SERIES\n",
    "df_skills= df_skills.reset_index(name='skill_count')"
   ]
  },
  {
   "cell_type": "code",
   "execution_count": 18,
   "id": "312fec85",
   "metadata": {},
   "outputs": [],
   "source": [
    "# SORTING IN DESCENDING ORDER\n",
    "df_skills.sort_values(by='skill_count',ascending=False,inplace=True)"
   ]
  },
  {
   "cell_type": "code",
   "execution_count": 19,
   "id": "e8bfbeb3",
   "metadata": {},
   "outputs": [
    {
     "data": {
      "text/html": [
       "<div>\n",
       "<style scoped>\n",
       "    .dataframe tbody tr th:only-of-type {\n",
       "        vertical-align: middle;\n",
       "    }\n",
       "\n",
       "    .dataframe tbody tr th {\n",
       "        vertical-align: top;\n",
       "    }\n",
       "\n",
       "    .dataframe thead th {\n",
       "        text-align: right;\n",
       "    }\n",
       "</style>\n",
       "<table border=\"1\" class=\"dataframe\">\n",
       "  <thead>\n",
       "    <tr style=\"text-align: right;\">\n",
       "      <th></th>\n",
       "      <th>job_skills</th>\n",
       "      <th>job_title_short</th>\n",
       "      <th>skill_count</th>\n",
       "    </tr>\n",
       "  </thead>\n",
       "  <tbody>\n",
       "    <tr>\n",
       "      <th>1374</th>\n",
       "      <td>sql</td>\n",
       "      <td>Data Engineer</td>\n",
       "      <td>12993</td>\n",
       "    </tr>\n",
       "    <tr>\n",
       "      <th>1088</th>\n",
       "      <td>python</td>\n",
       "      <td>Data Engineer</td>\n",
       "      <td>11568</td>\n",
       "    </tr>\n",
       "    <tr>\n",
       "      <th>1089</th>\n",
       "      <td>python</td>\n",
       "      <td>Data Scientist</td>\n",
       "      <td>9248</td>\n",
       "    </tr>\n",
       "    <tr>\n",
       "      <th>1327</th>\n",
       "      <td>spark</td>\n",
       "      <td>Data Engineer</td>\n",
       "      <td>7157</td>\n",
       "    </tr>\n",
       "    <tr>\n",
       "      <th>103</th>\n",
       "      <td>aws</td>\n",
       "      <td>Data Engineer</td>\n",
       "      <td>6993</td>\n",
       "    </tr>\n",
       "    <tr>\n",
       "      <th>...</th>\n",
       "      <td>...</td>\n",
       "      <td>...</td>\n",
       "      <td>...</td>\n",
       "    </tr>\n",
       "    <tr>\n",
       "      <th>34</th>\n",
       "      <td>angular.js</td>\n",
       "      <td>Data Scientist</td>\n",
       "      <td>1</td>\n",
       "    </tr>\n",
       "    <tr>\n",
       "      <th>49</th>\n",
       "      <td>arch</td>\n",
       "      <td>Business Analyst</td>\n",
       "      <td>1</td>\n",
       "    </tr>\n",
       "    <tr>\n",
       "      <th>787</th>\n",
       "      <td>mlpack</td>\n",
       "      <td>Data Engineer</td>\n",
       "      <td>1</td>\n",
       "    </tr>\n",
       "    <tr>\n",
       "      <th>1679</th>\n",
       "      <td>yarn</td>\n",
       "      <td>Senior Data Scientist</td>\n",
       "      <td>1</td>\n",
       "    </tr>\n",
       "    <tr>\n",
       "      <th>10</th>\n",
       "      <td>airtable</td>\n",
       "      <td>Business Analyst</td>\n",
       "      <td>1</td>\n",
       "    </tr>\n",
       "  </tbody>\n",
       "</table>\n",
       "<p>1689 rows × 3 columns</p>\n",
       "</div>"
      ],
      "text/plain": [
       "      job_skills        job_title_short  skill_count\n",
       "1374         sql          Data Engineer        12993\n",
       "1088      python          Data Engineer        11568\n",
       "1089      python         Data Scientist         9248\n",
       "1327       spark          Data Engineer         7157\n",
       "103          aws          Data Engineer         6993\n",
       "...          ...                    ...          ...\n",
       "34    angular.js         Data Scientist            1\n",
       "49          arch       Business Analyst            1\n",
       "787       mlpack          Data Engineer            1\n",
       "1679        yarn  Senior Data Scientist            1\n",
       "10      airtable       Business Analyst            1\n",
       "\n",
       "[1689 rows x 3 columns]"
      ]
     },
     "execution_count": 19,
     "metadata": {},
     "output_type": "execute_result"
    }
   ],
   "source": [
    "df_skills"
   ]
  },
  {
   "cell_type": "code",
   "execution_count": 61,
   "id": "3d8d5b60",
   "metadata": {},
   "outputs": [
    {
     "data": {
      "text/plain": [
       "['Data Engineer',\n",
       " 'Data Scientist',\n",
       " 'Data Analyst',\n",
       " 'Senior Data Engineer',\n",
       " 'Senior Data Scientist',\n",
       " 'Software Engineer',\n",
       " 'Business Analyst',\n",
       " 'Senior Data Analyst',\n",
       " 'Machine Learning Engineer',\n",
       " 'Cloud Engineer']"
      ]
     },
     "execution_count": 61,
     "metadata": {},
     "output_type": "execute_result"
    }
   ],
   "source": [
    "# SELECTING THE MOST POPULAR JOBS POSTED\n",
    "job_titles = df_skills['job_title_short'].unique().tolist()\n",
    "job_titles"
   ]
  },
  {
   "cell_type": "code",
   "execution_count": 65,
   "id": "6917d657",
   "metadata": {},
   "outputs": [
    {
     "data": {
      "text/plain": [
       "['Data Analyst', 'Data Engineer', 'Data Scientist']"
      ]
     },
     "execution_count": 65,
     "metadata": {},
     "output_type": "execute_result"
    }
   ],
   "source": [
    "job_titles = sorted(job_titles[:3])\n",
    "job_titles"
   ]
  },
  {
   "cell_type": "code",
   "execution_count": 66,
   "id": "bde5c4a7",
   "metadata": {},
   "outputs": [
    {
     "data": {
      "image/png": "[encoded data removed]",
      "text/plain": [
       "<Figure size 640x480 with 3 Axes>"
      ]
     },
     "metadata": {},
     "output_type": "display_data"
    }
   ],
   "source": [
    "fig, ax = plt.subplots(len(job_titles), 1)\n",
    "\n",
    "if len(job_titles) == 1:\n",
    "    ax = [ax]  # make sure it's always iterable\n",
    "\n",
    "for i, job_title in enumerate(job_titles):\n",
    "    df_plot = df_skills[df_skills['job_title_short'] == job_title].head(5)\n",
    "\n",
    "    if df_plot.empty:\n",
    "        print(f\"Skipping '{job_title}' — no matching data.\")\n",
    "        continue\n",
    "\n",
    "    df_plot.plot(kind='barh', x='job_skills', y='skill_count', ax=ax[i], title=job_title)\n",
    "    fig.suptitle('In demand skills for top-3 job posting in India', fontsize=12)\n",
    "    ax[i].legend().set_visible(False)\n",
    "    ax[i].set_ylabel('')\n",
    "    ax[i].set_xlim(0,12000)\n",
    "    ax[i].invert_yaxis()\n",
    "\n",
    "plt.tight_layout()\n",
    "plt.show()\n"
   ]
  },
  {
   "cell_type": "code",
   "execution_count": 67,
   "id": "46778405",
   "metadata": {},
   "outputs": [],
   "source": [
    "# TO IMPROVE THE AVAILABLE PLOT WE CAN ANALYZE BY COMPARING THE %(LIKELIHOOD) OF THESE SKILLS FOR ALL THE POSTING"
   ]
  },
  {
   "cell_type": "code",
   "execution_count": 80,
   "id": "b972271a",
   "metadata": {},
   "outputs": [
    {
     "data": {
      "text/plain": [
       "pandas.core.frame.DataFrame"
      ]
     },
     "execution_count": 80,
     "metadata": {},
     "output_type": "execute_result"
    }
   ],
   "source": [
    "# ON THE ORIGINAL SORTED DATA FRAME FOR INDIAN JOB POSTINGS, TOTALLING THE NO. OF POSTING BY TITLE\n",
    "df_job_total = df_india.value_counts(['job_title_short']).reset_index(name='job_total')\n",
    "type(df_job_total) # verifying change in data type"
   ]
  },
  {
   "cell_type": "code",
   "execution_count": 82,
   "id": "763c0540",
   "metadata": {},
   "outputs": [],
   "source": [
    "df_merged = pd.merge(df_skills,df_job_total,how='left',on='job_title_short') \n",
    "# merging two dataframes to show case no of job titles and thier respective total of req skills"
   ]
  },
  {
   "cell_type": "code",
   "execution_count": 83,
   "id": "adb6ee0e",
   "metadata": {},
   "outputs": [
    {
     "data": {
      "text/html": [
       "<div>\n",
       "<style scoped>\n",
       "    .dataframe tbody tr th:only-of-type {\n",
       "        vertical-align: middle;\n",
       "    }\n",
       "\n",
       "    .dataframe tbody tr th {\n",
       "        vertical-align: top;\n",
       "    }\n",
       "\n",
       "    .dataframe thead th {\n",
       "        text-align: right;\n",
       "    }\n",
       "</style>\n",
       "<table border=\"1\" class=\"dataframe\">\n",
       "  <thead>\n",
       "    <tr style=\"text-align: right;\">\n",
       "      <th></th>\n",
       "      <th>job_skills</th>\n",
       "      <th>job_title_short</th>\n",
       "      <th>skill_count</th>\n",
       "      <th>job_total</th>\n",
       "    </tr>\n",
       "  </thead>\n",
       "  <tbody>\n",
       "    <tr>\n",
       "      <th>0</th>\n",
       "      <td>sql</td>\n",
       "      <td>Data Engineer</td>\n",
       "      <td>12993</td>\n",
       "      <td>19062</td>\n",
       "    </tr>\n",
       "    <tr>\n",
       "      <th>1</th>\n",
       "      <td>python</td>\n",
       "      <td>Data Engineer</td>\n",
       "      <td>11568</td>\n",
       "      <td>19062</td>\n",
       "    </tr>\n",
       "    <tr>\n",
       "      <th>2</th>\n",
       "      <td>python</td>\n",
       "      <td>Data Scientist</td>\n",
       "      <td>9248</td>\n",
       "      <td>13279</td>\n",
       "    </tr>\n",
       "    <tr>\n",
       "      <th>3</th>\n",
       "      <td>spark</td>\n",
       "      <td>Data Engineer</td>\n",
       "      <td>7157</td>\n",
       "      <td>19062</td>\n",
       "    </tr>\n",
       "    <tr>\n",
       "      <th>4</th>\n",
       "      <td>aws</td>\n",
       "      <td>Data Engineer</td>\n",
       "      <td>6993</td>\n",
       "      <td>19062</td>\n",
       "    </tr>\n",
       "    <tr>\n",
       "      <th>...</th>\n",
       "      <td>...</td>\n",
       "      <td>...</td>\n",
       "      <td>...</td>\n",
       "      <td>...</td>\n",
       "    </tr>\n",
       "    <tr>\n",
       "      <th>1684</th>\n",
       "      <td>angular.js</td>\n",
       "      <td>Data Scientist</td>\n",
       "      <td>1</td>\n",
       "      <td>13279</td>\n",
       "    </tr>\n",
       "    <tr>\n",
       "      <th>1685</th>\n",
       "      <td>arch</td>\n",
       "      <td>Business Analyst</td>\n",
       "      <td>1</td>\n",
       "      <td>1887</td>\n",
       "    </tr>\n",
       "    <tr>\n",
       "      <th>1686</th>\n",
       "      <td>mlpack</td>\n",
       "      <td>Data Engineer</td>\n",
       "      <td>1</td>\n",
       "      <td>19062</td>\n",
       "    </tr>\n",
       "    <tr>\n",
       "      <th>1687</th>\n",
       "      <td>yarn</td>\n",
       "      <td>Senior Data Scientist</td>\n",
       "      <td>1</td>\n",
       "      <td>2486</td>\n",
       "    </tr>\n",
       "    <tr>\n",
       "      <th>1688</th>\n",
       "      <td>airtable</td>\n",
       "      <td>Business Analyst</td>\n",
       "      <td>1</td>\n",
       "      <td>1887</td>\n",
       "    </tr>\n",
       "  </tbody>\n",
       "</table>\n",
       "<p>1689 rows × 4 columns</p>\n",
       "</div>"
      ],
      "text/plain": [
       "      job_skills        job_title_short  skill_count  job_total\n",
       "0            sql          Data Engineer        12993      19062\n",
       "1         python          Data Engineer        11568      19062\n",
       "2         python         Data Scientist         9248      13279\n",
       "3          spark          Data Engineer         7157      19062\n",
       "4            aws          Data Engineer         6993      19062\n",
       "...          ...                    ...          ...        ...\n",
       "1684  angular.js         Data Scientist            1      13279\n",
       "1685        arch       Business Analyst            1       1887\n",
       "1686      mlpack          Data Engineer            1      19062\n",
       "1687        yarn  Senior Data Scientist            1       2486\n",
       "1688    airtable       Business Analyst            1       1887\n",
       "\n",
       "[1689 rows x 4 columns]"
      ]
     },
     "execution_count": 83,
     "metadata": {},
     "output_type": "execute_result"
    }
   ],
   "source": [
    "df_merged"
   ]
  },
  {
   "cell_type": "code",
   "execution_count": 84,
   "id": "2ed1af9e",
   "metadata": {},
   "outputs": [],
   "source": [
    "df_merged['perc of occur'] = 100 * (df_merged['skill_count']/df_merged['job_total'])"
   ]
  },
  {
   "cell_type": "code",
   "execution_count": 85,
   "id": "aae4987c",
   "metadata": {},
   "outputs": [
    {
     "data": {
      "text/html": [
       "<div>\n",
       "<style scoped>\n",
       "    .dataframe tbody tr th:only-of-type {\n",
       "        vertical-align: middle;\n",
       "    }\n",
       "\n",
       "    .dataframe tbody tr th {\n",
       "        vertical-align: top;\n",
       "    }\n",
       "\n",
       "    .dataframe thead th {\n",
       "        text-align: right;\n",
       "    }\n",
       "</style>\n",
       "<table border=\"1\" class=\"dataframe\">\n",
       "  <thead>\n",
       "    <tr style=\"text-align: right;\">\n",
       "      <th></th>\n",
       "      <th>job_skills</th>\n",
       "      <th>job_title_short</th>\n",
       "      <th>skill_count</th>\n",
       "      <th>job_total</th>\n",
       "      <th>perc of occur</th>\n",
       "    </tr>\n",
       "  </thead>\n",
       "  <tbody>\n",
       "    <tr>\n",
       "      <th>0</th>\n",
       "      <td>sql</td>\n",
       "      <td>Data Engineer</td>\n",
       "      <td>12993</td>\n",
       "      <td>19062</td>\n",
       "      <td>68.161788</td>\n",
       "    </tr>\n",
       "    <tr>\n",
       "      <th>1</th>\n",
       "      <td>python</td>\n",
       "      <td>Data Engineer</td>\n",
       "      <td>11568</td>\n",
       "      <td>19062</td>\n",
       "      <td>60.686182</td>\n",
       "    </tr>\n",
       "    <tr>\n",
       "      <th>2</th>\n",
       "      <td>python</td>\n",
       "      <td>Data Scientist</td>\n",
       "      <td>9248</td>\n",
       "      <td>13279</td>\n",
       "      <td>69.643798</td>\n",
       "    </tr>\n",
       "    <tr>\n",
       "      <th>3</th>\n",
       "      <td>spark</td>\n",
       "      <td>Data Engineer</td>\n",
       "      <td>7157</td>\n",
       "      <td>19062</td>\n",
       "      <td>37.545903</td>\n",
       "    </tr>\n",
       "    <tr>\n",
       "      <th>4</th>\n",
       "      <td>aws</td>\n",
       "      <td>Data Engineer</td>\n",
       "      <td>6993</td>\n",
       "      <td>19062</td>\n",
       "      <td>36.685552</td>\n",
       "    </tr>\n",
       "    <tr>\n",
       "      <th>...</th>\n",
       "      <td>...</td>\n",
       "      <td>...</td>\n",
       "      <td>...</td>\n",
       "      <td>...</td>\n",
       "      <td>...</td>\n",
       "    </tr>\n",
       "    <tr>\n",
       "      <th>1684</th>\n",
       "      <td>angular.js</td>\n",
       "      <td>Data Scientist</td>\n",
       "      <td>1</td>\n",
       "      <td>13279</td>\n",
       "      <td>0.007531</td>\n",
       "    </tr>\n",
       "    <tr>\n",
       "      <th>1685</th>\n",
       "      <td>arch</td>\n",
       "      <td>Business Analyst</td>\n",
       "      <td>1</td>\n",
       "      <td>1887</td>\n",
       "      <td>0.052994</td>\n",
       "    </tr>\n",
       "    <tr>\n",
       "      <th>1686</th>\n",
       "      <td>mlpack</td>\n",
       "      <td>Data Engineer</td>\n",
       "      <td>1</td>\n",
       "      <td>19062</td>\n",
       "      <td>0.005246</td>\n",
       "    </tr>\n",
       "    <tr>\n",
       "      <th>1687</th>\n",
       "      <td>yarn</td>\n",
       "      <td>Senior Data Scientist</td>\n",
       "      <td>1</td>\n",
       "      <td>2486</td>\n",
       "      <td>0.040225</td>\n",
       "    </tr>\n",
       "    <tr>\n",
       "      <th>1688</th>\n",
       "      <td>airtable</td>\n",
       "      <td>Business Analyst</td>\n",
       "      <td>1</td>\n",
       "      <td>1887</td>\n",
       "      <td>0.052994</td>\n",
       "    </tr>\n",
       "  </tbody>\n",
       "</table>\n",
       "<p>1689 rows × 5 columns</p>\n",
       "</div>"
      ],
      "text/plain": [
       "      job_skills        job_title_short  skill_count  job_total  perc of occur\n",
       "0            sql          Data Engineer        12993      19062      68.161788\n",
       "1         python          Data Engineer        11568      19062      60.686182\n",
       "2         python         Data Scientist         9248      13279      69.643798\n",
       "3          spark          Data Engineer         7157      19062      37.545903\n",
       "4            aws          Data Engineer         6993      19062      36.685552\n",
       "...          ...                    ...          ...        ...            ...\n",
       "1684  angular.js         Data Scientist            1      13279       0.007531\n",
       "1685        arch       Business Analyst            1       1887       0.052994\n",
       "1686      mlpack          Data Engineer            1      19062       0.005246\n",
       "1687        yarn  Senior Data Scientist            1       2486       0.040225\n",
       "1688    airtable       Business Analyst            1       1887       0.052994\n",
       "\n",
       "[1689 rows x 5 columns]"
      ]
     },
     "execution_count": 85,
     "metadata": {},
     "output_type": "execute_result"
    }
   ],
   "source": [
    "df_merged"
   ]
  },
  {
   "cell_type": "code",
   "execution_count": 107,
   "id": "87e7b57e",
   "metadata": {},
   "outputs": [
    {
     "data": {
      "image/png": "[encoded data removed]",
      "text/plain": [
       "<Figure size 640x480 with 3 Axes>"
      ]
     },
     "metadata": {},
     "output_type": "display_data"
    }
   ],
   "source": [
    "import seaborn as sns\n",
    "sns.set_theme(style='ticks')\n",
    "\n",
    "fig, ax = plt.subplots(len(job_titles), 1)\n",
    "\n",
    "if len(job_titles) == 1:\n",
    "    ax = [ax]  # make iterable\n",
    "\n",
    "for i, job_title in enumerate(job_titles):\n",
    "    df_plot = df_merged[df_merged['job_title_short'] == job_title].head(5)\n",
    "    sns.barplot(df_plot, x='perc of occur', y='job_skills', ax=ax[i], hue='skill_count', palette='dark:b_r')\n",
    "    \n",
    "   \n",
    "    if i != len(job_titles) - 1:  # if not the last plot\n",
    "        ax[i].set_xticks([])\n",
    "\n",
    "    fig.suptitle('Likelihood of skills for top-3 job posting in India', fontsize=12)\n",
    "    ax[i].legend().set_visible(False)\n",
    "    ax[i].set_ylabel('')\n",
    "    ax[i].set_xlabel('')\n",
    "    ax[i].set_xlim(0,75)\n",
    "    # TO ADD % IN THE BAR PLOT\n",
    "    for n,v in enumerate(df_plot['perc of occur']):\n",
    "        ax[i].text(v+1,n,f'{v:.0f}%', va='center')\n",
    "    ax[i].set_xticks([]) # REMOVES ALL THE POINTS ON X AXIS, to get it on the last plot\n",
    "     \n",
    "\n",
    "\n",
    "fig.tight_layout()\n",
    "plt.show()\n"
   ]
  },
  {
   "cell_type": "code",
   "execution_count": null,
   "id": "296feb7e",
   "metadata": {},
   "outputs": [],
   "source": []
  }
 ],
 "metadata": {
  "kernelspec": {
   "display_name": "Python_Course",
   "language": "python",
   "name": "python3"
  },
  "language_info": {
   "codemirror_mode": {
    "name": "ipython",
    "version": 3
   },
   "file_extension": ".py",
   "mimetype": "text/x-python",
   "name": "python",
   "nbconvert_exporter": "python",
   "pygments_lexer": "ipython3",
   "version": "3.13.5"
  }
 },
 "nbformat": 4,
 "nbformat_minor": 5
}
